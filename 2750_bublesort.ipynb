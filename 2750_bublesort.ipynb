{
 "cells": [
  {
   "cell_type": "code",
   "execution_count": 16,
   "metadata": {},
   "outputs": [
    {
     "name": "stdout",
     "output_type": "stream",
     "text": [
      "5\n",
      "3\n",
      "7\n",
      "4\n",
      "2\n",
      "4\n",
      "2\n",
      "3\n",
      "4\n",
      "4\n",
      "7\n"
     ]
    }
   ],
   "source": [
    "a = int(input(\"\"))\n",
    "sort = [0] * a\n",
    "re = 0\n",
    "for i in range(a):\n",
    "    sort[i] = int(input(\"\"))\n",
    "    \n",
    "for j in range(a-1):\n",
    "    for k in range(j+1, a):\n",
    "        if sort[j] > sort[k]:\n",
    "            re = sort[k]\n",
    "            sort[k] = sort[j]\n",
    "            sort[j] = re\n",
    "            \n",
    "for i in range(a):\n",
    "    print(sort[i])"
   ]
  },
  {
   "cell_type": "markdown",
   "metadata": {},
   "source": []
  }
 ],
 "metadata": {
  "kernelspec": {
   "display_name": "Python 3",
   "language": "python",
   "name": "python3"
  },
  "language_info": {
   "codemirror_mode": {
    "name": "ipython",
    "version": 3
   },
   "file_extension": ".py",
   "mimetype": "text/x-python",
   "name": "python",
   "nbconvert_exporter": "python",
   "pygments_lexer": "ipython3",
   "version": "3.8.5"
  }
 },
 "nbformat": 4,
 "nbformat_minor": 4
}
