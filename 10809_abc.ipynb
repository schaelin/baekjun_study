{
 "cells": [
  {
   "cell_type": "code",
   "execution_count": 19,
   "metadata": {},
   "outputs": [
    {
     "name": "stdout",
     "output_type": "stream",
     "text": [
      "asf\n",
      "0 -1 -1 -1 -1 2 -1 -1 -1 -1 -1 -1 -1 -1 -1 -1 -1 -1 1 -1 -1 -1 -1 -1 -1 -1 "
     ]
    }
   ],
   "source": [
    "str1 = input(\"\")\n",
    "srtlist = list(str1)\n",
    "\n",
    "abc = [-1] * 26\n",
    "\n",
    "for i in range(len(str1)):\n",
    "    if ord(srtlist[i]) < 96:\n",
    "        a = ord(srtlist[i]) - 65\n",
    "    if ord(srtlist[i]) > 96:\n",
    "        a = ord(srtlist[i]) - 97\n",
    "        \n",
    "    if abc[a] == -1:\n",
    "        abc[a] = i\n",
    "\n",
    "for j in range(26):\n",
    "    print(abc[j], end = \" \")"
   ]
  },
  {
   "cell_type": "code",
   "execution_count": null,
   "metadata": {},
   "outputs": [],
   "source": []
  }
 ],
 "metadata": {
  "kernelspec": {
   "display_name": "Python 3",
   "language": "python",
   "name": "python3"
  },
  "language_info": {
   "codemirror_mode": {
    "name": "ipython",
    "version": 3
   },
   "file_extension": ".py",
   "mimetype": "text/x-python",
   "name": "python",
   "nbconvert_exporter": "python",
   "pygments_lexer": "ipython3",
   "version": "3.8.5"
  }
 },
 "nbformat": 4,
 "nbformat_minor": 4
}
